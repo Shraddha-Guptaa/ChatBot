{
  "cells": [
    {
      "cell_type": "markdown",
      "metadata": {
        "id": "view-in-github",
        "colab_type": "text"
      },
      "source": [
        "<a href=\"https://colab.research.google.com/github/Shraddha-Guptaa/ChatBot/blob/main/CHATBOT.ipynb\" target=\"_parent\"><img src=\"https://colab.research.google.com/assets/colab-badge.svg\" alt=\"Open In Colab\"/></a>"
      ]
    },
    {
      "cell_type": "code",
      "execution_count": null,
      "metadata": {
        "id": "jsa8c3Dg1Ik-"
      },
      "outputs": [],
      "source": [
        "import re\n",
        "import random\n",
        "\n",
        "\n",
        "\n"
      ]
    },
    {
      "cell_type": "code",
      "execution_count": null,
      "metadata": {
        "id": "OS3_xWtS1mn6",
        "colab": {
          "base_uri": "https://localhost:8080/"
        },
        "outputId": "c69ef698-94fb-4e3d-bcdc-c2021c501e81"
      },
      "outputs": [
        {
          "output_type": "stream",
          "name": "stdout",
          "text": [
            "what is you name?\n",
            "shraddha\n",
            "hii shraddha, I am Rule-Bot. Will you help me learn about your planet?\n",
            "sure\n",
            "Is there intelligent life on this planet?yea  what about your planet\n",
            "My planet is a utopia of diverse organisms and species.\n",
            "what they people do at your planet\n",
            " the capital of the wayward Galaxies.\n",
            "ok more about your planet\n",
            "My planet is a utopia of diverse organisms and species.\n",
            "okay bye\n",
            "Intresting, can you tell me more?\n",
            "no bye\n",
            "I see. How do you think?\n",
            "quit\n",
            "okay, have a nice Earth day!\n"
          ]
        }
      ],
      "source": [
        "import re\n",
        "import random\n",
        "\n",
        "class RuleBot:\n",
        "  ### Potential Negative Responses\n",
        "  negative_responses = (\"no\", \"nope\",\"nah\",\"not\",\" sorry\", \"no chance\")\n",
        "  ### Exit conversation keywords\n",
        "  exit_commands = (\"quit\",\"pause\",\"exit\",\"goodbye\",\"bye\",\"later\", \"ok bye\", )\n",
        "  ### Random starter questions\n",
        "  random_questions = (\"why are you here?\",\" Are there many humans like you?\",\" what do you consume for sustenanace?\",\"Is there intelligent life on this planet?\",\n",
        "\n",
        "                    \"Does Earth have leader?\", \" what planets have you visited?\", \" what technology do you have on this planet?\", \"what is your daily routine in this life?\", \"who created you?\")\n",
        "\n",
        "  def __init__(self):\n",
        "    self.alienbabble = {'describe_planet_intent': r'.*\\s*your planet,*',\n",
        "                      'answer_why_intent': r'.*\\s*why\\sure,*',\n",
        "                      'about_intellipat': r'.*\\s*intellipat,*' }\n",
        "\n",
        "  def greet(self):\n",
        "   self.name = input(\"what is you name?\\n\")\n",
        "   will_help = input(\n",
        "      f\"hii {self.name}, I am Rule-Bot. Will you help me learn about your planet?\\n\"  )\n",
        "   if will_help in self.negative_responses:\n",
        "      print(\"ok, have a nice Earth Day!\")\n",
        "      return\n",
        "   self.chat()\n",
        "\n",
        "  def  make_exit(self, reply):\n",
        "    for command in self.exit_commands:\n",
        "     if reply == command:\n",
        "      print(\"okay, have a nice Earth day!\")\n",
        "      return True\n",
        "\n",
        "  def  chat(self):\n",
        "     reply = input(random.choice(self.random_questions)).lower()\n",
        "     while not self.make_exit(reply):\n",
        "      reply = input(self.match_reply(reply))\n",
        "\n",
        "  def  match_reply(self, reply):\n",
        "      for key, value in self.alienbabble.items():\n",
        "       intent = key\n",
        "       regex_pattern = value\n",
        "       found_match = re.match(regex_pattern, reply)\n",
        "       if found_match and intent == 'describe_planet_intent':\n",
        "          return self.describe_planet_intent()\n",
        "       elif found_match and intent == 'answer_why_intent':\n",
        "          return self.answer_why_intent()\n",
        "       elif found_match and intent == 'about_intellipat':\n",
        "          return self.about_intellipat()\n",
        "      if not found_match:\n",
        "       return self.no_match_intent()\n",
        "\n",
        "  def describe_planet_intent(self):\n",
        "     responses = (\"My planet is a utopia of diverse organisms and species.\\n\",\n",
        "              \"I am from utopia\\n\",\" the capital of the wayward Galaxies.\\n\", \"i live with my family on my planet.\\n\")\n",
        "     return random.choice(responses)\n",
        "\n",
        "  def answer_why_intent(self):\n",
        "     responses = (\"I come in peace\\n\", \"I am here to collect data on your planet and its inhabitants.\\n\",\n",
        "              \"I heard the coffee is good\\n\")\n",
        "     return random.choice(responses)\n",
        "\n",
        "\n",
        "  def about_intellipat(self):\n",
        "   responses = (\"utopia is my planet, where my freinds, family and I live peacefully.\\n\"\n",
        "              \"It is the largest planet and capital of the wayward Galaxies.\")\n",
        "   return random.choice(responses)\n",
        "\n",
        "  def no_match_intent(self):\n",
        "   responses = (\n",
        "      \"Please tell me more.\\n\",\"Tell me more!\\n\",\"why do you say that?\",\"I see. can you elaborate?\\n\",\n",
        "     \"Intresting, can you tell me more?\\n\", \"I see. How do you think?\\n\",\"why?\\n\",\n",
        "      \"How do you think I feel when you say that?\\n\")\n",
        "   return random.choice(responses)\n",
        "\n",
        "\n",
        "AlienBot = RuleBot()\n",
        "AlienBot.greet()\n"
      ]
    }
  ],
  "metadata": {
    "colab": {
      "provenance": [],
      "authorship_tag": "ABX9TyO6WSwt5x/29QXQaFg6sFhm",
      "include_colab_link": true
    },
    "kernelspec": {
      "display_name": "Python 3",
      "name": "python3"
    },
    "language_info": {
      "name": "python"
    }
  },
  "nbformat": 4,
  "nbformat_minor": 0
}